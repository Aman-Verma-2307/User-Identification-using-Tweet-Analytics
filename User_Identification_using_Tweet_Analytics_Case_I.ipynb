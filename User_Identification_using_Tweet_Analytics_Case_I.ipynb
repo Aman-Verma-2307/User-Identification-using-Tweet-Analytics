{
  "nbformat": 4,
  "nbformat_minor": 0,
  "metadata": {
    "colab": {
      "name": "User_Identification_using_Tweet_Analytics Case-I.ipynb",
      "provenance": [],
      "collapsed_sections": [],
      "toc_visible": true,
      "include_colab_link": true
    },
    "kernelspec": {
      "name": "python3",
      "display_name": "Python 3"
    },
    "accelerator": "GPU"
  },
  "cells": [
    {
      "cell_type": "markdown",
      "metadata": {
        "id": "view-in-github",
        "colab_type": "text"
      },
      "source": [
        "<a href=\"https://colab.research.google.com/github/Aman-Verma-2307/User-Identification-using-Tweet-Analytics/blob/master/User_Identification_using_Tweet_Analytics_Case_I.ipynb\" target=\"_parent\"><img src=\"https://colab.research.google.com/assets/colab-badge.svg\" alt=\"Open In Colab\"/></a>"
      ]
    },
    {
      "cell_type": "markdown",
      "metadata": {
        "id": "GdAcK2zyMad_",
        "colab_type": "text"
      },
      "source": [
        "# Threshold for selecting the dataset\n",
        "__The user to be selected for training must satisfy ALL of the following thresholds:__\n",
        "- Total number of tweets must be greater than or equal to 2,500\n",
        "- Total words typed by the user must be greater than or equal to 20,000\n",
        "- Average words per tweet for the user must be greater than or equal to 7\n",
        "  \n",
        "  \n",
        "A total of about 1k users satisfied these criteria. The dataset contains the tweets of all these users. Dataset is available at:  \n",
        "[https://github.com/Rutvik-Trivedi/files.git](https://github.com/Rutvik-Trivedi/files.git) with the name ```cleaned_data.tar.xz```"
      ]
    },
    {
      "cell_type": "code",
      "metadata": {
        "id": "FUmlhs2b2w7M",
        "colab_type": "code",
        "colab": {}
      },
      "source": [
        "# Remove all unwanted files to free up space\n",
        "!rm -rf sample_data"
      ],
      "execution_count": 0,
      "outputs": []
    },
    {
      "cell_type": "code",
      "metadata": {
        "id": "3V1f211ZJCLU",
        "colab_type": "code",
        "outputId": "3117325e-2a7a-4634-b81e-e87b65d9439f",
        "colab": {
          "base_uri": "https://localhost:8080/",
          "height": 782
        }
      },
      "source": [
        "# Set the GloVe Embedding vector length. Available are: 25, 50, 100 and 200\n",
        "glove_embedding_length = 200\n",
        "\n",
        "# Get GloVe files\n",
        "!mkdir glove\n",
        "!wget http://nlp.stanford.edu/data/glove.twitter.27B.zip\n",
        "!unzip glove.twitter.27B.zip -d glove/\n",
        "\n",
        "# Download dataset\n",
        "!wget --no-hsts https://github.com/Rutvik-Trivedi/files/blob/master/cleaned_data_139.tar.xz?raw=true\n",
        "!mv cleaned_data_139.tar.xz?raw=true dataset.tar.xz\n",
        "# Unzip the Dataset\n",
        "!tar -xf dataset.tar.xz"
      ],
      "execution_count": 0,
      "outputs": [
        {
          "output_type": "stream",
          "text": [
            "--2020-05-24 02:35:26--  http://nlp.stanford.edu/data/glove.twitter.27B.zip\n",
            "Resolving nlp.stanford.edu (nlp.stanford.edu)... 171.64.67.140\n",
            "Connecting to nlp.stanford.edu (nlp.stanford.edu)|171.64.67.140|:80... connected.\n",
            "HTTP request sent, awaiting response... 302 Found\n",
            "Location: https://nlp.stanford.edu/data/glove.twitter.27B.zip [following]\n",
            "--2020-05-24 02:35:26--  https://nlp.stanford.edu/data/glove.twitter.27B.zip\n",
            "Connecting to nlp.stanford.edu (nlp.stanford.edu)|171.64.67.140|:443... connected.\n",
            "HTTP request sent, awaiting response... 301 Moved Permanently\n",
            "Location: http://downloads.cs.stanford.edu/nlp/data/glove.twitter.27B.zip [following]\n",
            "--2020-05-24 02:35:27--  http://downloads.cs.stanford.edu/nlp/data/glove.twitter.27B.zip\n",
            "Resolving downloads.cs.stanford.edu (downloads.cs.stanford.edu)... 171.64.64.22\n",
            "Connecting to downloads.cs.stanford.edu (downloads.cs.stanford.edu)|171.64.64.22|:80... connected.\n",
            "HTTP request sent, awaiting response... 200 OK\n",
            "Length: 1520408563 (1.4G) [application/zip]\n",
            "Saving to: ‘glove.twitter.27B.zip’\n",
            "\n",
            "glove.twitter.27B.z 100%[===================>]   1.42G  2.09MB/s    in 11m 46s \n",
            "\n",
            "2020-05-24 02:47:13 (2.05 MB/s) - ‘glove.twitter.27B.zip’ saved [1520408563/1520408563]\n",
            "\n",
            "Archive:  glove.twitter.27B.zip\n",
            "  inflating: glove/glove.twitter.27B.25d.txt  \n",
            "  inflating: glove/glove.twitter.27B.50d.txt  \n",
            "  inflating: glove/glove.twitter.27B.100d.txt  \n",
            "  inflating: glove/glove.twitter.27B.200d.txt  \n",
            "--2020-05-24 02:48:28--  https://github.com/Rutvik-Trivedi/files/blob/master/cleaned_data_139.tar.xz?raw=true\n",
            "Resolving github.com (github.com)... 140.82.118.3\n",
            "Connecting to github.com (github.com)|140.82.118.3|:443... connected.\n",
            "HTTP request sent, awaiting response... 302 Found\n",
            "Location: https://github.com/Rutvik-Trivedi/files/raw/master/cleaned_data_139.tar.xz [following]\n",
            "--2020-05-24 02:48:28--  https://github.com/Rutvik-Trivedi/files/raw/master/cleaned_data_139.tar.xz\n",
            "Reusing existing connection to github.com:443.\n",
            "HTTP request sent, awaiting response... 302 Found\n",
            "Location: https://raw.githubusercontent.com/Rutvik-Trivedi/files/master/cleaned_data_139.tar.xz [following]\n",
            "--2020-05-24 02:48:28--  https://raw.githubusercontent.com/Rutvik-Trivedi/files/master/cleaned_data_139.tar.xz\n",
            "Resolving raw.githubusercontent.com (raw.githubusercontent.com)... 151.101.0.133, 151.101.64.133, 151.101.128.133, ...\n",
            "Connecting to raw.githubusercontent.com (raw.githubusercontent.com)|151.101.0.133|:443... connected.\n",
            "HTTP request sent, awaiting response... 200 OK\n",
            "Length: 7117852 (6.8M) [application/octet-stream]\n",
            "Saving to: ‘cleaned_data_139.tar.xz?raw=true’\n",
            "\n",
            "cleaned_data_139.ta 100%[===================>]   6.79M  --.-KB/s    in 0.1s    \n",
            "\n",
            "2020-05-24 02:48:30 (52.1 MB/s) - ‘cleaned_data_139.tar.xz?raw=true’ saved [7117852/7117852]\n",
            "\n"
          ],
          "name": "stdout"
        }
      ]
    },
    {
      "cell_type": "code",
      "metadata": {
        "id": "pgVrB0FTe0IX",
        "colab_type": "code",
        "colab": {}
      },
      "source": [
        "import pandas as pd\n",
        "import os\n",
        "import numpy as np\n",
        "import tensorflow as tf\n",
        "from tensorflow.keras.models import Sequential\n",
        "from tensorflow.keras.layers import Embedding, Dense, LSTM, Flatten, Dropout, Input\n",
        "from tensorflow.keras.preprocessing.text import Tokenizer\n",
        "from tensorflow.keras.preprocessing.sequence import pad_sequences\n",
        "from sklearn.preprocessing import LabelEncoder"
      ],
      "execution_count": 0,
      "outputs": []
    },
    {
      "cell_type": "code",
      "metadata": {
        "id": "PqvdcIG45hh2",
        "colab_type": "code",
        "colab": {}
      },
      "source": [
        "l = os.listdir('cleaned_data/')\n",
        "train_X = []\n",
        "train_y = []\n",
        "\n",
        "for user in l:\n",
        "  tweets = pd.read_csv('cleaned_data/'+user)\n",
        "  tweets.dropna(inplace=True, axis=0)\n",
        "  train_X+=tweets['tweets'].tolist()\n",
        "  train_y+=[user.strip('.csv')]*len(tweets)\n",
        "\n",
        "assert len(train_X)==len(train_y), 'Error in structuring data. Please recheck the code'"
      ],
      "execution_count": 0,
      "outputs": []
    },
    {
      "cell_type": "code",
      "metadata": {
        "id": "f_JSdov8hzr9",
        "colab_type": "code",
        "colab": {}
      },
      "source": [
        "maxlen = -1\n",
        "for i in train_X:\n",
        "  try:\n",
        "    if len(i.split()) > maxlen:\n",
        "      maxlen = len(i.split())\n",
        "  except:\n",
        "    pass\n",
        "\n",
        "max_len = 280\n",
        "tokenizer = Tokenizer()\n",
        "tokenizer.fit_on_texts(train_X)\n",
        "sequences = tokenizer.texts_to_sequences(train_X)\n",
        "pad_seq = pad_sequences(sequences, maxlen=max_len, padding='post')\n",
        "\n",
        "vocab_size = len(tokenizer.word_index)+1"
      ],
      "execution_count": 0,
      "outputs": []
    },
    {
      "cell_type": "code",
      "metadata": {
        "id": "ZlsQcUMztpmT",
        "colab_type": "code",
        "colab": {}
      },
      "source": [
        "# Create GloVe Embeddings\n",
        "embedding_vector = {}\n",
        "glove_embedding_length = 200\n",
        "\n",
        "f = open('glove/glove.twitter.27B.'+str(glove_embedding_length)+'d.txt')\n",
        "for line in f:\n",
        "    value = line.split(' ')\n",
        "    word = value[0]\n",
        "    coef = np.array(value[1:],dtype = 'float32')\n",
        "    embedding_vector[word] = coef\n",
        "\n",
        "embedding_matrix = np.zeros((vocab_size,glove_embedding_length))\n",
        "for word,i in tokenizer.word_index.items():\n",
        "        embedding_value = embedding_vector.get(word)\n",
        "        if embedding_value is not None:\n",
        "            embedding_matrix[i] = embedding_value\n",
        "f.close()"
      ],
      "execution_count": 0,
      "outputs": []
    },
    {
      "cell_type": "code",
      "metadata": {
        "id": "KBvMBXpTtavM",
        "colab_type": "code",
        "colab": {}
      },
      "source": [
        "### One Hot Encoding \n",
        "\n",
        "encoder = LabelEncoder()\n",
        "encoder.fit(train_y)\n",
        "train_y = encoder.transform(train_y)\n",
        "train_y = tf.one_hot(np.array(train_y),139)"
      ],
      "execution_count": 0,
      "outputs": []
    },
    {
      "cell_type": "code",
      "metadata": {
        "id": "NIuEXuE6v8ej",
        "colab_type": "code",
        "colab": {}
      },
      "source": [
        "### Saving Dataset \n",
        "train_X = np.asarray(pad_seq)\n",
        "train_y = np.asarray(train_y)\n",
        "\n",
        "np.savez_compressed('train_X_final.npz',train_X)\n",
        "np.savez_compressed('train_y_final.npz',train_y)"
      ],
      "execution_count": 0,
      "outputs": []
    },
    {
      "cell_type": "code",
      "metadata": {
        "id": "4-BiLNRKfIrt",
        "colab_type": "code",
        "colab": {}
      },
      "source": [
        "### Loading train_X and train_y\n",
        "\n",
        "train_X = (np.load('/content/train_X_final.npz')['arr_0'])\n",
        "train_y = (np.load('/content/train_y_final.npz')['arr_0'])"
      ],
      "execution_count": 0,
      "outputs": []
    },
    {
      "cell_type": "code",
      "metadata": {
        "id": "xYpAWqMLxtq5",
        "colab_type": "code",
        "outputId": "28eee504-797c-4f32-f28b-dc4e26c2bcb4",
        "colab": {
          "base_uri": "https://localhost:8080/",
          "height": 357
        }
      },
      "source": [
        "##### Model Case-1:LSTM \n",
        "max_len = 280\n",
        "output = 139\n",
        "\n",
        "model_11 = tf.keras.models.Sequential()\n",
        "model_11.add(Input(shape=(max_len,)))\n",
        "model_11.add(tf.keras.layers.Embedding(vocab_size, glove_embedding_length, weights=[embedding_matrix], trainable=False))\n",
        "model_11.add(tf.keras.layers.LSTM(256,activation='tanh'))\n",
        "model_11.add(tf.keras.layers.BatchNormalization())\n",
        "model_11.add(tf.keras.layers.Dense(128,activation='relu'))\n",
        "model_11.add(tf.keras.layers.BatchNormalization())\n",
        "model_11.add(tf.keras.layers.Dense(output,activation='softmax'))\n",
        "\n",
        "model_11.compile(tf.keras.optimizers.Adam(lr=1e-4),loss='categorical_crossentropy',metrics=['accuracy'])\n",
        "model_11.summary()"
      ],
      "execution_count": 12,
      "outputs": [
        {
          "output_type": "stream",
          "text": [
            "Model: \"sequential\"\n",
            "_________________________________________________________________\n",
            "Layer (type)                 Output Shape              Param #   \n",
            "=================================================================\n",
            "embedding (Embedding)        (None, 280, 200)          32302400  \n",
            "_________________________________________________________________\n",
            "lstm (LSTM)                  (None, 256)               467968    \n",
            "_________________________________________________________________\n",
            "batch_normalization (BatchNo (None, 256)               1024      \n",
            "_________________________________________________________________\n",
            "dense (Dense)                (None, 128)               32896     \n",
            "_________________________________________________________________\n",
            "batch_normalization_1 (Batch (None, 128)               512       \n",
            "_________________________________________________________________\n",
            "dense_1 (Dense)              (None, 139)               17931     \n",
            "=================================================================\n",
            "Total params: 32,822,731\n",
            "Trainable params: 519,563\n",
            "Non-trainable params: 32,303,168\n",
            "_________________________________________________________________\n"
          ],
          "name": "stdout"
        }
      ]
    },
    {
      "cell_type": "code",
      "metadata": {
        "id": "1fblYl8wiJiE",
        "colab_type": "code",
        "outputId": "95d78edc-6d10-44b1-c68f-16bd4b40852f",
        "colab": {
          "base_uri": "https://localhost:8080/",
          "height": 323
        }
      },
      "source": [
        "### Model - Deep LSTM\n",
        "\n",
        "model_12 = tf.keras.models.Sequential()\n",
        "model_12.add(Input(shape=(maxlen,)))\n",
        "model_12.add(tf.keras.layers.Embedding(vocab_size, glove_embedding_length, weights=[embedding_matrix], trainable=False))\n",
        "model_12.add(tf.keras.layers.LSTM(128,activation='tanh',return_sequences= False))\n",
        "model_12.add(tf.keras.layers.BatchNormalization())\n",
        "model_12.add(Dense(512,activation='relu'))\n",
        "model_12.add(Dense(output,activation='softmax'))\n",
        "\n",
        "model_12.compile(tf.keras.optimizers.Adam(lr=1e-4), loss='categorical_crossentropy', metrics=['accuracy'])\n",
        "model_12.summary()"
      ],
      "execution_count": 13,
      "outputs": [
        {
          "output_type": "stream",
          "text": [
            "Model: \"sequential_1\"\n",
            "_________________________________________________________________\n",
            "Layer (type)                 Output Shape              Param #   \n",
            "=================================================================\n",
            "embedding_1 (Embedding)      (None, 68, 200)           32302400  \n",
            "_________________________________________________________________\n",
            "lstm_1 (LSTM)                (None, 128)               168448    \n",
            "_________________________________________________________________\n",
            "batch_normalization_2 (Batch (None, 128)               512       \n",
            "_________________________________________________________________\n",
            "dense_2 (Dense)              (None, 512)               66048     \n",
            "_________________________________________________________________\n",
            "dense_3 (Dense)              (None, 139)               71307     \n",
            "=================================================================\n",
            "Total params: 32,608,715\n",
            "Trainable params: 306,059\n",
            "Non-trainable params: 32,302,656\n",
            "_________________________________________________________________\n"
          ],
          "name": "stdout"
        }
      ]
    },
    {
      "cell_type": "code",
      "metadata": {
        "id": "AWY-gtjdtz1y",
        "colab_type": "code",
        "outputId": "b295126f-586f-4dab-fe82-a4d95f0b0fcd",
        "colab": {
          "base_uri": "https://localhost:8080/",
          "height": 323
        }
      },
      "source": [
        "### Model Bi-LSTM\n",
        "\n",
        "model_13 = tf.keras.models.Sequential()\n",
        "model_13.add(Input(shape=(maxlen,)))\n",
        "model_13.add(tf.keras.layers.Embedding(vocab_size, glove_embedding_length, weights=[embedding_matrix],trainable=False))\n",
        "model_13.add(tf.keras.layers.Bidirectional(LSTM(128,activation='tanh',return_sequences=False),merge_mode='concat'))\n",
        "model_13.add(tf.keras.layers.BatchNormalization())\n",
        "model_13.add(tf.keras.layers.Dense(512,activation='relu'))\n",
        "model_13.add(Dense(output,activation='softmax'))\n",
        "\n",
        "model_13.compile(tf.keras.optimizers.Adam(lr=1e-4), loss='categorical_crossentropy', metrics=['accuracy'])\n",
        "model_13.summary()"
      ],
      "execution_count": 14,
      "outputs": [
        {
          "output_type": "stream",
          "text": [
            "Model: \"sequential_2\"\n",
            "_________________________________________________________________\n",
            "Layer (type)                 Output Shape              Param #   \n",
            "=================================================================\n",
            "embedding_2 (Embedding)      (None, 68, 200)           32302400  \n",
            "_________________________________________________________________\n",
            "bidirectional (Bidirectional (None, 256)               336896    \n",
            "_________________________________________________________________\n",
            "batch_normalization_3 (Batch (None, 256)               1024      \n",
            "_________________________________________________________________\n",
            "dense_4 (Dense)              (None, 512)               131584    \n",
            "_________________________________________________________________\n",
            "dense_5 (Dense)              (None, 139)               71307     \n",
            "=================================================================\n",
            "Total params: 32,843,211\n",
            "Trainable params: 540,299\n",
            "Non-trainable params: 32,302,912\n",
            "_________________________________________________________________\n"
          ],
          "name": "stdout"
        }
      ]
    },
    {
      "cell_type": "code",
      "metadata": {
        "id": "fi2L1bnIGhnh",
        "colab_type": "code",
        "outputId": "0e3bb9b6-edb5-4769-8520-611cb894b81d",
        "colab": {
          "base_uri": "https://localhost:8080/",
          "height": 391
        }
      },
      "source": [
        "### Model-Deep Bi-LSTM\n",
        "\n",
        "model_14 = tf.keras.models.Sequential()\n",
        "model_14.add(Input(shape=(maxlen,)))\n",
        "model_14.add(tf.keras.layers.Embedding(vocab_size, glove_embedding_length, weights=[embedding_matrix], trainable=False))\n",
        "model_14.add(tf.keras.layers.Bidirectional(LSTM(128,activation='tanh',return_sequences=True),merge_mode='concat'))\n",
        "model_14.add(tf.keras.layers.Bidirectional(LSTM(256,activation='tanh',return_sequences=False),merge_mode='concat'))\n",
        "model_14.add(tf.keras.layers.BatchNormalization())\n",
        "model_14.add(tf.keras.layers.Dense(768,activation='relu'))\n",
        "model_14.add(tf.keras.layers.BatchNormalization())\n",
        "model_14.add(tf.keras.layers.Dense(output,activation='softmax'))\n",
        "\n",
        "model_14.compile(optimizer='adam', loss='categorical_crossentropy', metrics=['accuracy'])\n",
        "model_14.summary()"
      ],
      "execution_count": 15,
      "outputs": [
        {
          "output_type": "stream",
          "text": [
            "Model: \"sequential_3\"\n",
            "_________________________________________________________________\n",
            "Layer (type)                 Output Shape              Param #   \n",
            "=================================================================\n",
            "embedding_3 (Embedding)      (None, 68, 200)           32302400  \n",
            "_________________________________________________________________\n",
            "bidirectional_1 (Bidirection (None, 68, 256)           336896    \n",
            "_________________________________________________________________\n",
            "bidirectional_2 (Bidirection (None, 512)               1050624   \n",
            "_________________________________________________________________\n",
            "batch_normalization_4 (Batch (None, 512)               2048      \n",
            "_________________________________________________________________\n",
            "dense_6 (Dense)              (None, 768)               393984    \n",
            "_________________________________________________________________\n",
            "batch_normalization_5 (Batch (None, 768)               3072      \n",
            "_________________________________________________________________\n",
            "dense_7 (Dense)              (None, 139)               106891    \n",
            "=================================================================\n",
            "Total params: 34,195,915\n",
            "Trainable params: 1,890,955\n",
            "Non-trainable params: 32,304,960\n",
            "_________________________________________________________________\n"
          ],
          "name": "stdout"
        }
      ]
    },
    {
      "cell_type": "code",
      "metadata": {
        "id": "e_HWd6-tstSj",
        "colab_type": "code",
        "colab": {}
      },
      "source": [
        "##### Case-II - Generative Pre Trained Networks "
      ],
      "execution_count": 0,
      "outputs": []
    },
    {
      "cell_type": "code",
      "metadata": {
        "id": "DWbgrtn0tBII",
        "colab_type": "code",
        "colab": {}
      },
      "source": [
        "### Model Pretraining \n",
        "\n",
        "train_y_gpt = train_X\n",
        "\n",
        "model_prt = tf.keras.models.Sequential()\n",
        "model_prt.add(tf.keras.Embedding(vocab_size, glove_embedding_length, weights=[embedding_matrix], trainable=False,input_shape=(max_len,)))\n",
        "model_prt.add(tf.keras.LSTM(128,activation='tanh'))\n",
        "model_prt.add(tf.keras.layers.BatchNormalization())\n",
        "model_prt.add(tf.keras.Dense(256,activation='relu'))\n",
        "model_prt.add(tf.keras.LSTM(glove_embedding_length))"
      ],
      "execution_count": 0,
      "outputs": []
    },
    {
      "cell_type": "code",
      "metadata": {
        "id": "bdd776FWtpdj",
        "colab_type": "code",
        "colab": {}
      },
      "source": [
        "#import random\n",
        "#from sklearn.model_selection import train_test_split\n",
        "#temp = list(zip(pad_seq, train_y))\n",
        "#random.shuffle(temp)\n",
        "#pad_seq, train_y = zip(*temp)\n",
        "X, test_X, y, test_y = train_test_split(pad_seq, train_y, test_size=0.2) "
      ],
      "execution_count": 0,
      "outputs": []
    },
    {
      "cell_type": "code",
      "metadata": {
        "id": "kObJGWP6B48n",
        "colab_type": "code",
        "colab": {}
      },
      "source": [
        "### Shuffling Arrays\n",
        "\n",
        "from sklearn.utils import shuffle\n",
        "X,y = shuffle(train_X,train_y)"
      ],
      "execution_count": 0,
      "outputs": []
    },
    {
      "cell_type": "code",
      "metadata": {
        "id": "RF0-6KbLKM63",
        "colab_type": "code",
        "colab": {}
      },
      "source": [
        "### Training Set\n",
        "X_train = X[:400000]\n",
        "y_train = y[:400000]\n",
        "\n",
        "### Dev Set\n",
        "X_dev = X[400000:430000]\n",
        "y_dev = y[400000:430000]\n",
        "\n",
        "### Test Set\n",
        "X_test = X[430000:]\n",
        "y_test = y[430000:]"
      ],
      "execution_count": 0,
      "outputs": []
    },
    {
      "cell_type": "code",
      "metadata": {
        "id": "UZgF9emGh752",
        "colab_type": "code",
        "outputId": "e506df5d-914b-46ea-f87d-83cf25ac67b5",
        "colab": {
          "base_uri": "https://localhost:8080/",
          "height": 34
        }
      },
      "source": [
        "import gc\n",
        "del(X,y)\n",
        "gc.collect()"
      ],
      "execution_count": 18,
      "outputs": [
        {
          "output_type": "execute_result",
          "data": {
            "text/plain": [
              "17"
            ]
          },
          "metadata": {
            "tags": []
          },
          "execution_count": 18
        }
      ]
    },
    {
      "cell_type": "code",
      "metadata": {
        "id": "hMFM7qwrtpYo",
        "colab_type": "code",
        "outputId": "06075dfd-33df-43e1-a307-0ad80aaac587",
        "colab": {
          "base_uri": "https://localhost:8080/",
          "height": 391
        }
      },
      "source": [
        "#  Train the model\n",
        "history = model_11.fit(X_train,y_train,batch_size=64,epochs=100)"
      ],
      "execution_count": 0,
      "outputs": [
        {
          "output_type": "stream",
          "text": [
            "Epoch 1/100\n",
            "6250/6250 [==============================] - 269s 43ms/step - loss: 4.9345 - accuracy: 0.0071\n",
            "Epoch 2/100\n",
            "6250/6250 [==============================] - 269s 43ms/step - loss: 4.9344 - accuracy: 0.0072\n",
            "Epoch 3/100\n",
            "6250/6250 [==============================] - 268s 43ms/step - loss: 4.3231 - accuracy: 0.0318\n",
            "Epoch 4/100\n",
            "6250/6250 [==============================] - 268s 43ms/step - loss: 3.9129 - accuracy: 0.0564\n",
            "Epoch 5/100\n",
            "6250/6250 [==============================] - 268s 43ms/step - loss: 3.8222 - accuracy: 0.0618\n",
            "Epoch 6/100\n",
            "6250/6250 [==============================] - 267s 43ms/step - loss: 3.7611 - accuracy: 0.0661\n",
            "Epoch 7/100\n",
            "6250/6250 [==============================] - 268s 43ms/step - loss: 3.7248 - accuracy: 0.0690\n",
            "Epoch 8/100\n",
            "6250/6250 [==============================] - 270s 43ms/step - loss: 3.7820 - accuracy: 0.0735\n",
            "Epoch 9/100\n",
            "6250/6250 [==============================] - 270s 43ms/step - loss: 3.7689 - accuracy: 0.0888\n",
            "Epoch 10/100\n",
            "6250/6250 [==============================] - 270s 43ms/step - loss: 3.8765 - accuracy: 0.0755\n",
            "Epoch 11/100\n",
            "4229/6250 [===================>..........] - ETA: 1:27 - loss: 3.8701 - accuracy: 0.0817"
          ],
          "name": "stdout"
        }
      ]
    },
    {
      "cell_type": "code",
      "metadata": {
        "id": "S9mljPmBtpL7",
        "colab_type": "code",
        "outputId": "9438e5b6-e9df-4fce-f697-6476ad607de3",
        "colab": {
          "base_uri": "https://localhost:8080/",
          "height": 300
        }
      },
      "source": [
        "import matplotlib.pyplot as plt\n",
        "%matplotlib inline\n",
        "\n",
        "print(history.history.keys())\n",
        "plt.plot(history.history['accuracy'])\n",
        "plt.show()\n",
        "plt.savefig('baseline_lstm(100)_accuracy.png')"
      ],
      "execution_count": 0,
      "outputs": [
        {
          "output_type": "stream",
          "text": [
            "dict_keys(['loss', 'accuracy'])\n"
          ],
          "name": "stdout"
        },
        {
          "output_type": "display_data",
          "data": {
            "image/png": "[encoded data removed]",
            "text/plain": [
              "<Figure size 432x288 with 1 Axes>"
            ]
          },
          "metadata": {
            "tags": [],
            "needs_background": "light"
          }
        },
        {
          "output_type": "display_data",
          "data": {
            "text/plain": [
              "<Figure size 432x288 with 0 Axes>"
            ]
          },
          "metadata": {
            "tags": []
          }
        }
      ]
    },
    {
      "cell_type": "code",
      "metadata": {
        "id": "xxlzaWr8LMRm",
        "colab_type": "code",
        "outputId": "808f35f1-ba23-483f-974b-5e2808e10a88",
        "colab": {
          "base_uri": "https://localhost:8080/",
          "height": 293
        }
      },
      "source": [
        "plt.plot(history.history['loss'])\n",
        "plt.show()\n",
        "plt.savefig('baseline_lstm(100)_loss.png')"
      ],
      "execution_count": 0,
      "outputs": [
        {
          "output_type": "display_data",
          "data": {
            "image/png": "[encoded data removed]",
            "text/plain": [
              "<Figure size 432x288 with 1 Axes>"
            ]
          },
          "metadata": {
            "tags": [],
            "needs_background": "light"
          }
        },
        {
          "output_type": "display_data",
          "data": {
            "text/plain": [
              "<Figure size 432x288 with 0 Axes>"
            ]
          },
          "metadata": {
            "tags": []
          }
        }
      ]
    },
    {
      "cell_type": "markdown",
      "metadata": {
        "id": "YV1xHNw3LhsC",
        "colab_type": "text"
      },
      "source": [
        "# Possible reasons of Failure\n",
        "- To large size of output vector (about 1k users)\n",
        "- Model not optimized\n",
        "\n",
        "# Experimentations\n",
        "- Trying with a different Baseline Model"
      ]
    }
  ]
}